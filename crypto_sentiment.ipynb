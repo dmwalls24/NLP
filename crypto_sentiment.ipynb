{
 "cells": [
  {
   "cell_type": "markdown",
   "metadata": {},
   "source": [
    "# Unit 12 - Tales from the Crypto\n",
    "\n",
    "---\n"
   ]
  },
  {
   "cell_type": "markdown",
   "metadata": {},
   "source": [
    "## 1. Sentiment Analysis\n",
    "\n",
    "Use the [newsapi](https://newsapi.org/) to pull the latest news articles for Bitcoin and Ethereum and create a DataFrame of sentiment scores for each coin.\n",
    "\n",
    "Use descriptive statistics to answer the following questions:\n",
    "1. Which coin had the highest mean positive score?\n",
    "2. Which coin had the highest negative score?\n",
    "3. Which coin had the highest positive score?"
   ]
  },
  {
   "cell_type": "code",
   "execution_count": 5,
   "metadata": {},
   "outputs": [
    {
     "output_type": "stream",
     "name": "stderr",
     "text": [
      "[nltk_data] Downloading package vader_lexicon to\n[nltk_data]     C:\\Users\\dmwal\\AppData\\Roaming\\nltk_data...\n[nltk_data]   Package vader_lexicon is already up-to-date!\n"
     ]
    }
   ],
   "source": [
    "# Initial imports\n",
    "import os\n",
    "import pandas as pd\n",
    "from dotenv import load_dotenv\n",
    "import nltk as nltk\n",
    "nltk.download('vader_lexicon')\n",
    "from nltk.sentiment.vader import SentimentIntensityAnalyzer\n",
    "analyzer = SentimentIntensityAnalyzer()\n",
    "\n",
    "%matplotlib inline"
   ]
  },
  {
   "cell_type": "code",
   "execution_count": 7,
   "metadata": {},
   "outputs": [
    {
     "output_type": "execute_result",
     "data": {
      "text/plain": [
       "'c9c3eb28741441a0b08772394a8d4181'"
      ]
     },
     "metadata": {},
     "execution_count": 7
    }
   ],
   "source": [
    "# Read your api key environment variable\n",
    "from newsapi import NewsApiClient\n",
    "load_dotenv()\n",
    "api_key = os.getenv(\"news_api\")\n",
    "api_key"
   ]
  },
  {
   "cell_type": "code",
   "execution_count": 8,
   "metadata": {},
   "outputs": [],
   "source": [
    "# Create a newsapi client\n",
    "newsapi = NewsApiClient(api_key=api_key)"
   ]
  },
  {
   "cell_type": "code",
   "execution_count": 12,
   "metadata": {},
   "outputs": [
    {
     "output_type": "execute_result",
     "data": {
      "text/plain": [
       "12361"
      ]
     },
     "metadata": {},
     "execution_count": 12
    }
   ],
   "source": [
    "# Fetch the Bitcoin news articles\n",
    "btc_articles = newsapi.get_everything(q=\"bitcoin\", language=\"en\", page_size=100, sort_by=\"relevancy\")\n",
    "\n",
    "btc_articles['totalResults']"
   ]
  },
  {
   "cell_type": "code",
   "execution_count": 18,
   "metadata": {},
   "outputs": [
    {
     "output_type": "execute_result",
     "data": {
      "text/plain": [
       "4141"
      ]
     },
     "metadata": {},
     "execution_count": 18
    }
   ],
   "source": [
    "# Fetch the Ethereum news articles\n",
    "eth_articles = newsapi.get_everything(q=\"ethereum\", language=\"en\", page_size=100, sort_by=\"relevancy\")\n",
    "\n",
    "eth_articles['totalResults']"
   ]
  },
  {
   "cell_type": "code",
   "execution_count": 31,
   "metadata": {},
   "outputs": [
    {
     "output_type": "execute_result",
     "data": {
      "text/plain": [
       "         date                                               text  compound  \\\n",
       "0  2021-05-12  Just weeks after Tesla started accepting Bitco...    0.3818   \n",
       "1  2021-05-12  Image: Tesla\\r\\n\\n \\n\\n Tesla has stopped acce...    0.4939   \n",
       "2  2021-05-19  Illustration by Alex Castro / The Verge\\r\\n\\n ...    0.0000   \n",
       "3  2021-05-17  Last week, whenElon Musk tweeted that he had s...    0.4754   \n",
       "4  2021-05-11  Mark Zuckerberg posted a picture of his two, f...    0.8455   \n",
       "\n",
       "   positive  negative  neutral  \n",
       "0     0.071      0.00    0.929  \n",
       "1     0.134      0.05    0.816  \n",
       "2     0.000      0.00    1.000  \n",
       "3     0.075      0.00    0.925  \n",
       "4     0.217      0.00    0.783  "
      ],
      "text/html": "<div>\n<style scoped>\n    .dataframe tbody tr th:only-of-type {\n        vertical-align: middle;\n    }\n\n    .dataframe tbody tr th {\n        vertical-align: top;\n    }\n\n    .dataframe thead th {\n        text-align: right;\n    }\n</style>\n<table border=\"1\" class=\"dataframe\">\n  <thead>\n    <tr style=\"text-align: right;\">\n      <th></th>\n      <th>date</th>\n      <th>text</th>\n      <th>compound</th>\n      <th>positive</th>\n      <th>negative</th>\n      <th>neutral</th>\n    </tr>\n  </thead>\n  <tbody>\n    <tr>\n      <th>0</th>\n      <td>2021-05-12</td>\n      <td>Just weeks after Tesla started accepting Bitco...</td>\n      <td>0.3818</td>\n      <td>0.071</td>\n      <td>0.00</td>\n      <td>0.929</td>\n    </tr>\n    <tr>\n      <th>1</th>\n      <td>2021-05-12</td>\n      <td>Image: Tesla\\r\\n\\n \\n\\n Tesla has stopped acce...</td>\n      <td>0.4939</td>\n      <td>0.134</td>\n      <td>0.05</td>\n      <td>0.816</td>\n    </tr>\n    <tr>\n      <th>2</th>\n      <td>2021-05-19</td>\n      <td>Illustration by Alex Castro / The Verge\\r\\n\\n ...</td>\n      <td>0.0000</td>\n      <td>0.000</td>\n      <td>0.00</td>\n      <td>1.000</td>\n    </tr>\n    <tr>\n      <th>3</th>\n      <td>2021-05-17</td>\n      <td>Last week, whenElon Musk tweeted that he had s...</td>\n      <td>0.4754</td>\n      <td>0.075</td>\n      <td>0.00</td>\n      <td>0.925</td>\n    </tr>\n    <tr>\n      <th>4</th>\n      <td>2021-05-11</td>\n      <td>Mark Zuckerberg posted a picture of his two, f...</td>\n      <td>0.8455</td>\n      <td>0.217</td>\n      <td>0.00</td>\n      <td>0.783</td>\n    </tr>\n  </tbody>\n</table>\n</div>"
     },
     "metadata": {},
     "execution_count": 31
    }
   ],
   "source": [
    "# Create the Bitcoin sentiment scores DataFrame\n",
    "\n",
    "btc_sentiments = []\n",
    "\n",
    "for article in btc_articles[\"articles\"]:\n",
    "    try:\n",
    "        text = article[\"content\"]\n",
    "        date = article[\"publishedAt\"][:10]\n",
    "        sentiment = analyzer.polarity_scores(text)\n",
    "        compound = sentiment[\"compound\"]\n",
    "        pos = sentiment[\"pos\"]\n",
    "        neu = sentiment[\"neu\"]\n",
    "        neg = sentiment[\"neg\"]\n",
    "        \n",
    "        btc_sentiments.append({\n",
    "            \"text\": text,\n",
    "            \"date\": date,\n",
    "            \"compound\": compound,\n",
    "            \"positive\": pos,\n",
    "            \"negative\": neg,\n",
    "            \"neutral\": neu\n",
    "            \n",
    "        })\n",
    "        \n",
    "    except AttributeError:\n",
    "        pass\n",
    "\n",
    "\n",
    "btc_df = pd.DataFrame(btc_sentiments)\n",
    "cols = [\"date\", \"text\", \"compound\", \"positive\", \"negative\", \"neutral\"]\n",
    "btc_df = btc_df[cols]\n",
    "btc_df.head()"
   ]
  },
  {
   "cell_type": "code",
   "execution_count": 30,
   "metadata": {},
   "outputs": [
    {
     "output_type": "execute_result",
     "data": {
      "text/plain": [
       "         date                                               text  compound  \\\n",
       "0  2021-05-12  Vitalik Buterin, the creator of Ethereum, on W...    0.2263   \n",
       "1  2021-05-15  Solana isn’t known yet outside of the crypto c...    0.5499   \n",
       "2  2021-05-19  Bitcoin, Ethereum and a host of Altcoins suffe...   -0.2023   \n",
       "3  2021-05-20                                                       0.0000   \n",
       "4  2021-05-31  A representation of virtual currency Ethereum ...    0.0000   \n",
       "\n",
       "   positive  negative  neutral  \n",
       "0     0.060     0.000    0.940  \n",
       "1     0.106     0.000    0.894  \n",
       "2     0.066     0.087    0.847  \n",
       "3     0.000     0.000    0.000  \n",
       "4     0.000     0.000    1.000  "
      ],
      "text/html": "<div>\n<style scoped>\n    .dataframe tbody tr th:only-of-type {\n        vertical-align: middle;\n    }\n\n    .dataframe tbody tr th {\n        vertical-align: top;\n    }\n\n    .dataframe thead th {\n        text-align: right;\n    }\n</style>\n<table border=\"1\" class=\"dataframe\">\n  <thead>\n    <tr style=\"text-align: right;\">\n      <th></th>\n      <th>date</th>\n      <th>text</th>\n      <th>compound</th>\n      <th>positive</th>\n      <th>negative</th>\n      <th>neutral</th>\n    </tr>\n  </thead>\n  <tbody>\n    <tr>\n      <th>0</th>\n      <td>2021-05-12</td>\n      <td>Vitalik Buterin, the creator of Ethereum, on W...</td>\n      <td>0.2263</td>\n      <td>0.060</td>\n      <td>0.000</td>\n      <td>0.940</td>\n    </tr>\n    <tr>\n      <th>1</th>\n      <td>2021-05-15</td>\n      <td>Solana isn’t known yet outside of the crypto c...</td>\n      <td>0.5499</td>\n      <td>0.106</td>\n      <td>0.000</td>\n      <td>0.894</td>\n    </tr>\n    <tr>\n      <th>2</th>\n      <td>2021-05-19</td>\n      <td>Bitcoin, Ethereum and a host of Altcoins suffe...</td>\n      <td>-0.2023</td>\n      <td>0.066</td>\n      <td>0.087</td>\n      <td>0.847</td>\n    </tr>\n    <tr>\n      <th>3</th>\n      <td>2021-05-20</td>\n      <td></td>\n      <td>0.0000</td>\n      <td>0.000</td>\n      <td>0.000</td>\n      <td>0.000</td>\n    </tr>\n    <tr>\n      <th>4</th>\n      <td>2021-05-31</td>\n      <td>A representation of virtual currency Ethereum ...</td>\n      <td>0.0000</td>\n      <td>0.000</td>\n      <td>0.000</td>\n      <td>1.000</td>\n    </tr>\n  </tbody>\n</table>\n</div>"
     },
     "metadata": {},
     "execution_count": 30
    }
   ],
   "source": [
    "# Create the Ethereum sentiment scores DataFrame\n",
    "\n",
    "eth_sentiments = []\n",
    "\n",
    "for article in eth_articles[\"articles\"]:\n",
    "    try:\n",
    "        text = article[\"content\"]\n",
    "        date = article[\"publishedAt\"][:10]\n",
    "        sentiment = analyzer.polarity_scores(text)\n",
    "        compound = sentiment[\"compound\"]\n",
    "        pos = sentiment[\"pos\"]\n",
    "        neu = sentiment[\"neu\"]\n",
    "        neg = sentiment[\"neg\"]\n",
    "        \n",
    "        eth_sentiments.append({\n",
    "            \"text\": text,\n",
    "            \"date\": date,\n",
    "            \"compound\": compound,\n",
    "            \"positive\": pos,\n",
    "            \"negative\": neg,\n",
    "            \"neutral\": neu\n",
    "            \n",
    "        })\n",
    "        \n",
    "    except AttributeError:\n",
    "        pass\n",
    "\n",
    "eth_df = pd.DataFrame(eth_sentiments)\n",
    "eth_df = eth_df[cols]\n",
    "eth_df.head()"
   ]
  },
  {
   "cell_type": "code",
   "execution_count": 29,
   "metadata": {},
   "outputs": [
    {
     "output_type": "execute_result",
     "data": {
      "text/plain": [
       "         compound   positive    negative     neutral\n",
       "count  100.000000  100.00000  100.000000  100.000000\n",
       "mean     0.022279    0.04922    0.042490    0.908330\n",
       "std      0.398383    0.06498    0.052211    0.078554\n",
       "min     -0.762700    0.00000    0.000000    0.677000\n",
       "25%     -0.273200    0.00000    0.000000    0.857750\n",
       "50%      0.000000    0.00000    0.000000    0.920500\n",
       "75%      0.323650    0.07500    0.073250    1.000000\n",
       "max      0.845500    0.27500    0.203000    1.000000"
      ],
      "text/html": "<div>\n<style scoped>\n    .dataframe tbody tr th:only-of-type {\n        vertical-align: middle;\n    }\n\n    .dataframe tbody tr th {\n        vertical-align: top;\n    }\n\n    .dataframe thead th {\n        text-align: right;\n    }\n</style>\n<table border=\"1\" class=\"dataframe\">\n  <thead>\n    <tr style=\"text-align: right;\">\n      <th></th>\n      <th>compound</th>\n      <th>positive</th>\n      <th>negative</th>\n      <th>neutral</th>\n    </tr>\n  </thead>\n  <tbody>\n    <tr>\n      <th>count</th>\n      <td>100.000000</td>\n      <td>100.00000</td>\n      <td>100.000000</td>\n      <td>100.000000</td>\n    </tr>\n    <tr>\n      <th>mean</th>\n      <td>0.022279</td>\n      <td>0.04922</td>\n      <td>0.042490</td>\n      <td>0.908330</td>\n    </tr>\n    <tr>\n      <th>std</th>\n      <td>0.398383</td>\n      <td>0.06498</td>\n      <td>0.052211</td>\n      <td>0.078554</td>\n    </tr>\n    <tr>\n      <th>min</th>\n      <td>-0.762700</td>\n      <td>0.00000</td>\n      <td>0.000000</td>\n      <td>0.677000</td>\n    </tr>\n    <tr>\n      <th>25%</th>\n      <td>-0.273200</td>\n      <td>0.00000</td>\n      <td>0.000000</td>\n      <td>0.857750</td>\n    </tr>\n    <tr>\n      <th>50%</th>\n      <td>0.000000</td>\n      <td>0.00000</td>\n      <td>0.000000</td>\n      <td>0.920500</td>\n    </tr>\n    <tr>\n      <th>75%</th>\n      <td>0.323650</td>\n      <td>0.07500</td>\n      <td>0.073250</td>\n      <td>1.000000</td>\n    </tr>\n    <tr>\n      <th>max</th>\n      <td>0.845500</td>\n      <td>0.27500</td>\n      <td>0.203000</td>\n      <td>1.000000</td>\n    </tr>\n  </tbody>\n</table>\n</div>"
     },
     "metadata": {},
     "execution_count": 29
    }
   ],
   "source": [
    "# Describe the Bitcoin Sentiment\n",
    "btc_df.describe()"
   ]
  },
  {
   "cell_type": "code",
   "execution_count": 27,
   "metadata": {},
   "outputs": [
    {
     "output_type": "execute_result",
     "data": {
      "text/plain": [
       "         compound   positive    negative    neutral\n",
       "count  100.000000  100.00000  100.000000  100.00000\n",
       "mean     0.100511    0.06136    0.035100    0.89353\n",
       "std      0.366296    0.06202    0.055123    0.11871\n",
       "min     -0.868900    0.00000    0.000000    0.00000\n",
       "25%     -0.102375    0.00000    0.000000    0.85075\n",
       "50%      0.012900    0.06000    0.000000    0.91950\n",
       "75%      0.401900    0.09725    0.069000    0.95400\n",
       "max      0.778300    0.24600    0.286000    1.00000"
      ],
      "text/html": "<div>\n<style scoped>\n    .dataframe tbody tr th:only-of-type {\n        vertical-align: middle;\n    }\n\n    .dataframe tbody tr th {\n        vertical-align: top;\n    }\n\n    .dataframe thead th {\n        text-align: right;\n    }\n</style>\n<table border=\"1\" class=\"dataframe\">\n  <thead>\n    <tr style=\"text-align: right;\">\n      <th></th>\n      <th>compound</th>\n      <th>positive</th>\n      <th>negative</th>\n      <th>neutral</th>\n    </tr>\n  </thead>\n  <tbody>\n    <tr>\n      <th>count</th>\n      <td>100.000000</td>\n      <td>100.00000</td>\n      <td>100.000000</td>\n      <td>100.00000</td>\n    </tr>\n    <tr>\n      <th>mean</th>\n      <td>0.100511</td>\n      <td>0.06136</td>\n      <td>0.035100</td>\n      <td>0.89353</td>\n    </tr>\n    <tr>\n      <th>std</th>\n      <td>0.366296</td>\n      <td>0.06202</td>\n      <td>0.055123</td>\n      <td>0.11871</td>\n    </tr>\n    <tr>\n      <th>min</th>\n      <td>-0.868900</td>\n      <td>0.00000</td>\n      <td>0.000000</td>\n      <td>0.00000</td>\n    </tr>\n    <tr>\n      <th>25%</th>\n      <td>-0.102375</td>\n      <td>0.00000</td>\n      <td>0.000000</td>\n      <td>0.85075</td>\n    </tr>\n    <tr>\n      <th>50%</th>\n      <td>0.012900</td>\n      <td>0.06000</td>\n      <td>0.000000</td>\n      <td>0.91950</td>\n    </tr>\n    <tr>\n      <th>75%</th>\n      <td>0.401900</td>\n      <td>0.09725</td>\n      <td>0.069000</td>\n      <td>0.95400</td>\n    </tr>\n    <tr>\n      <th>max</th>\n      <td>0.778300</td>\n      <td>0.24600</td>\n      <td>0.286000</td>\n      <td>1.00000</td>\n    </tr>\n  </tbody>\n</table>\n</div>"
     },
     "metadata": {},
     "execution_count": 27
    }
   ],
   "source": [
    "# Describe the Ethereum Sentiment\n",
    "eth_df.describe()"
   ]
  },
  {
   "cell_type": "markdown",
   "metadata": {},
   "source": [
    "### Questions:\n",
    "\n",
    "Q: Which coin had the highest mean positive score?\n",
    "\n",
    "A: Ethereum\n",
    "\n",
    "Q: Which coin had the highest compound score?\n",
    "\n",
    "A: Bitcoin\n",
    "\n",
    "Q. Which coin had the highest positive score?\n",
    "\n",
    "A: Bitcoin"
   ]
  },
  {
   "cell_type": "markdown",
   "metadata": {},
   "source": [
    "---"
   ]
  },
  {
   "cell_type": "markdown",
   "metadata": {},
   "source": [
    "## 2. Natural Language Processing\n",
    "---\n",
    "###   Tokenizer\n",
    "\n",
    "In this section, you will use NLTK and Python to tokenize the text for each coin. Be sure to:\n",
    "1. Lowercase each word.\n",
    "2. Remove Punctuation.\n",
    "3. Remove Stopwords."
   ]
  },
  {
   "cell_type": "code",
   "execution_count": 10,
   "metadata": {},
   "outputs": [],
   "source": [
    "from nltk.tokenize import word_tokenize, sent_tokenize\n",
    "from nltk.corpus import stopwords\n",
    "from nltk.stem import WordNetLemmatizer, PorterStemmer\n",
    "from string import punctuation\n",
    "import re"
   ]
  },
  {
   "cell_type": "code",
   "execution_count": 11,
   "metadata": {},
   "outputs": [],
   "source": [
    "# Instantiate the lemmatizer\n",
    "lemmatizer = WordNetLemmatizer()\n",
    "\n",
    "# Create a list of stopwords\n",
    "# YOUR CODE HERE!\n",
    "\n",
    "# Expand the default stopwords list if necessary\n",
    "# YOUR CODE HERE!"
   ]
  },
  {
   "cell_type": "code",
   "execution_count": 12,
   "metadata": {},
   "outputs": [],
   "source": [
    "# Complete the tokenizer function\n",
    "def tokenizer(text):\n",
    "    \"\"\"Tokenizes text.\"\"\"\n",
    "    regex = re.compile(\"[^a-zA-Z\")\n",
    "    re_clean = regex.sub('', text)\n",
    "    # Remove the punctuation from text\n",
    "    words = [t.translate(str.maketrans('','',string.punctuation)) for t in tokens]\n",
    "   \n",
    "    # Create a tokenized list of the words\n",
    "    tokens = word_tokenize(re_clean)\n",
    "    \n",
    "    # Lemmatize words into root words\n",
    "    tokens = ', '.join([lemmatizer.lemmatize(word) for word in words])\n",
    "   \n",
    "    # Convert the words to lowercase\n",
    "    tokens = [t.lower() for t in tokens]\n",
    "    \n",
    "    # Remove the stop words\n",
    "    stop_words = set(stopwords.words('english'))\n",
    "    words = [w for w in words if not w in stop_words]\n",
    "    \n",
    "    return tokens"
   ]
  },
  {
   "cell_type": "code",
   "execution_count": 13,
   "metadata": {},
   "outputs": [],
   "source": [
    "# Create a new tokens column for Bitcoin\n",
    "btc_df[\"tokens\"] = btc_df.apply(lambda x: tokenizer(x['description']), axis=1)\n",
    "btc_df"
   ]
  },
  {
   "cell_type": "code",
   "execution_count": 14,
   "metadata": {},
   "outputs": [],
   "source": [
    "# Create a new tokens column for Ethereum\n",
    "eth_df[\"tokens\"] = eth_df.apply(lambda x: tokenizer(x['description']), axis=1)\n",
    "eth_df"
   ]
  },
  {
   "cell_type": "markdown",
   "metadata": {},
   "source": [
    "---"
   ]
  },
  {
   "cell_type": "markdown",
   "metadata": {},
   "source": [
    "### NGrams and Frequency Analysis\n",
    "\n",
    "In this section you will look at the ngrams and word frequency for each coin. \n",
    "\n",
    "1. Use NLTK to produce the n-grams for N = 2. \n",
    "2. List the top 10 words for each coin. "
   ]
  },
  {
   "cell_type": "code",
   "execution_count": 15,
   "metadata": {},
   "outputs": [],
   "source": [
    "from collections import Counter\n",
    "from nltk import ngrams"
   ]
  },
  {
   "cell_type": "code",
   "execution_count": 16,
   "metadata": {},
   "outputs": [],
   "source": [
    "# Generate the Bitcoin N-grams where N=2\n",
    "btc_gram = Counter(ngrams(btc_processed, n=2))"
   ]
  },
  {
   "cell_type": "code",
   "execution_count": 17,
   "metadata": {},
   "outputs": [],
   "source": [
    "# Generate the Ethereum N-grams where N=2\n",
    "eth_gram = Counter(ngrams(eth_processed, n=2))"
   ]
  },
  {
   "cell_type": "code",
   "execution_count": 18,
   "metadata": {},
   "outputs": [],
   "source": [
    "# Function token_count generates the top 10 words for a given coin\n",
    "def token_count(tokens, N=3):\n",
    "    \"\"\"Returns the top N tokens from the frequency count\"\"\"\n",
    "    return Counter(tokens).most_common(N)"
   ]
  },
  {
   "cell_type": "code",
   "execution_count": 19,
   "metadata": {},
   "outputs": [],
   "source": [
    "# Use token_count to get the top 10 words for Bitcoin\n",
    "btc_count = token_count(btc_gram, N=3)\n",
    "btc_count.head(10)"
   ]
  },
  {
   "cell_type": "code",
   "execution_count": 20,
   "metadata": {},
   "outputs": [],
   "source": [
    "# Use token_count to get the top 10 words for Ethereum\n",
    "eth_count = token_count(eth_gram, N=3)\n",
    "eth_count.head(10)"
   ]
  },
  {
   "cell_type": "markdown",
   "metadata": {},
   "source": [
    "---"
   ]
  },
  {
   "cell_type": "markdown",
   "metadata": {},
   "source": [
    "### Word Clouds\n",
    "\n",
    "In this section, you will generate word clouds for each coin to summarize the news for each coin"
   ]
  },
  {
   "cell_type": "code",
   "execution_count": 21,
   "metadata": {},
   "outputs": [],
   "source": [
    "from wordcloud import WordCloud\n",
    "import matplotlib.pyplot as plt\n",
    "plt.style.use('seaborn-whitegrid')\n",
    "import matplotlib as mpl\n",
    "mpl.rcParams['figure.figsize'] = [20.0, 10.0]"
   ]
  },
  {
   "cell_type": "code",
   "execution_count": 22,
   "metadata": {},
   "outputs": [],
   "source": [
    "# Generate the Bitcoin word cloud\n",
    "btc_wc = WordCloud().generate(' '.join(entities_btc))\n",
    "plt.imshow(btc_wc)"
   ]
  },
  {
   "cell_type": "code",
   "execution_count": 23,
   "metadata": {},
   "outputs": [],
   "source": [
    "# Generate the Ethereum word cloud\n",
    "eth_wc = WordCloud().generate(' '.join(entities_eth))\n",
    "plt.imshow(eth_wc)"
   ]
  },
  {
   "cell_type": "markdown",
   "metadata": {},
   "source": [
    "---\n",
    "## 3. Named Entity Recognition\n",
    "\n",
    "In this section, you will build a named entity recognition model for both Bitcoin and Ethereum, then visualize the tags using SpaCy."
   ]
  },
  {
   "cell_type": "code",
   "execution_count": 24,
   "metadata": {},
   "outputs": [],
   "source": [
    "import spacy\n",
    "from spacy import displacy"
   ]
  },
  {
   "cell_type": "code",
   "execution_count": 25,
   "metadata": {},
   "outputs": [],
   "source": [
    "# Download the language model for SpaCy\n",
    "# !python -m spacy download en_core_web_sm"
   ]
  },
  {
   "cell_type": "code",
   "execution_count": 26,
   "metadata": {},
   "outputs": [],
   "source": [
    "# Load the spaCy model\n",
    "nlp = spacy.load('en_core_web_sm')"
   ]
  },
  {
   "cell_type": "markdown",
   "metadata": {},
   "source": [
    "---\n",
    "### Bitcoin NER"
   ]
  },
  {
   "cell_type": "code",
   "execution_count": 27,
   "metadata": {},
   "outputs": [],
   "source": [
    "# Concatenate all of the Bitcoin text together\n",
    "concat_btc = btc_df['description'].str.cat(sep=', ')"
   ]
  },
  {
   "cell_type": "code",
   "execution_count": 28,
   "metadata": {},
   "outputs": [],
   "source": [
    "# Run the NER processor on all of the text\n",
    "doc = nlp(concat_btc)\n",
    "\n",
    "# Add a title to the document\n",
    "doc.user_data[\"title\"] = \"BTC NER\""
   ]
  },
  {
   "cell_type": "code",
   "execution_count": 29,
   "metadata": {},
   "outputs": [],
   "source": [
    "# Render the visualization\n",
    "displacy.render(doc, style='ent')"
   ]
  },
  {
   "cell_type": "code",
   "execution_count": 30,
   "metadata": {},
   "outputs": [],
   "source": [
    "# List all Entities\n",
    "print([ent.text for ent in doc.ents if ent.label- == \"GPE\"])"
   ]
  },
  {
   "cell_type": "markdown",
   "metadata": {},
   "source": [
    "---"
   ]
  },
  {
   "cell_type": "markdown",
   "metadata": {},
   "source": [
    "### Ethereum NER"
   ]
  },
  {
   "cell_type": "code",
   "execution_count": 31,
   "metadata": {},
   "outputs": [],
   "source": [
    "# Concatenate all of the Ethereum text together\n",
    "concat_eth = eth_df['description'].str.cat(sep=', ')"
   ]
  },
  {
   "cell_type": "code",
   "execution_count": 32,
   "metadata": {},
   "outputs": [],
   "source": [
    "# Run the NER processor on all of the text\n",
    "doc = nlp(concat_eth)\n",
    "\n",
    "# Add a title to the document\n",
    "doc.user_data[\"title\"] = \"ETH NER\""
   ]
  },
  {
   "cell_type": "code",
   "execution_count": 33,
   "metadata": {},
   "outputs": [],
   "source": [
    "# Render the visualization\n",
    "displacy.render(doc, style='ent')"
   ]
  },
  {
   "cell_type": "code",
   "execution_count": 34,
   "metadata": {},
   "outputs": [],
   "source": [
    "# List all Entities\n",
    "print([ent.text for ent in doc.ents if ent.label- == \"GPE\" ])"
   ]
  },
  {
   "cell_type": "markdown",
   "metadata": {},
   "source": [
    "---"
   ]
  }
 ],
 "metadata": {
  "file_extension": ".py",
  "kernelspec": {
   "name": "python385jvsc74a57bd04dba3cd8cacc6caf095be8f13e45c7df4062fd9036a4f6c7ca2cd1452bed8f3f",
   "display_name": "Python 3.8.5 64-bit ('base': conda)"
  },
  "language_info": {
   "codemirror_mode": {
    "name": "ipython",
    "version": 3
   },
   "file_extension": ".py",
   "mimetype": "text/x-python",
   "name": "python",
   "nbconvert_exporter": "python",
   "pygments_lexer": "ipython3",
   "version": "3.8.5"
  },
  "mimetype": "text/x-python",
  "name": "python",
  "npconvert_exporter": "python",
  "pygments_lexer": "ipython3",
  "version": 3
 },
 "nbformat": 4,
 "nbformat_minor": 4
}